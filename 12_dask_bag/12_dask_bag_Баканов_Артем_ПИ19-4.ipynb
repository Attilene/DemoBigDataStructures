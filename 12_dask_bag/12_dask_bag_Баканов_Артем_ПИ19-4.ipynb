{
 "cells": [
  {
   "cell_type": "markdown",
   "metadata": {},
   "source": [
    "# Dask Bag"
   ]
  },
  {
   "cell_type": "markdown",
   "metadata": {},
   "source": [
    "Материалы: \n",
    "* Макрушин С.В. Лекция 12: Map-Reduce\n",
    "* https://docs.dask.org/en/latest/bag.html\n",
    "* Jesse C. Daniel. Data Science with Python and Dask. "
   ]
  },
  {
   "cell_type": "code",
   "execution_count": 10,
   "metadata": {},
   "outputs": [],
   "source": [
    "# from nltk import sent_tokenize\n",
    "from datetime import datetime as dt\n",
    "import dask.bag as db\n",
    "import pandas as pd\n",
    "import jsonlines\n",
    "import json\n",
    "import re"
   ]
  },
  {
   "cell_type": "code",
   "execution_count": 2,
   "metadata": {},
   "outputs": [],
   "source": [
    "path1 = \"D:/FinUniver/Технологии обработки больших данных/Семинары/12_dask_bag/12_dask_bag_data/\""
   ]
  },
  {
   "cell_type": "markdown",
   "metadata": {},
   "source": [
    "## Задачи для совместного разбора"
   ]
  },
  {
   "cell_type": "markdown",
   "metadata": {},
   "source": [
    "1. Считайте файл `Dostoevskiy Fedor. Igrok - BooksCafe.Net.txt` и разбейте на предложения. Подсчитайте длину (в кол-ве символов) каждого предложения."
   ]
  },
  {
   "cell_type": "code",
   "execution_count": 4,
   "metadata": {},
   "outputs": [
    {
     "data": {
      "text/plain": [
       "['Спасибо, что скачали книгу в бесплатной электронной библиотеке BooksCafe.Net: http://bookscafe.net\\n\\nВсе книги автора: http://bookscafe.net/author/dostoevskiy_fedor-1096.html\\n\\nЭта же книга в других форматах: http://bookscafe.net/book/dostoevskiy_fedor-igrok-240117.html\\n\\nПриятного чтения!',\n",
       " 'Федор Михайлович Достоевский\\n\\nИгрок\\n\\n(Из записок молодого человека)\\n\\n\\n\\n\\nГлава I\\n\\nНаконец я возвратился из моей двухнедельной отлучки.',\n",
       " 'Наши уже три дня как были в Рулетенбурге.']"
      ]
     },
     "execution_count": 4,
     "metadata": {},
     "output_type": "execute_result"
    }
   ],
   "source": [
    "text = open(path1 + \"Dostoevskiy Fedor. Igrok - BooksCafe.Net.txt\").read()\n",
    "sents = sent_tokenize(text)\n",
    "sents[:3]"
   ]
  },
  {
   "cell_type": "code",
   "execution_count": 5,
   "metadata": {},
   "outputs": [
    {
     "data": {
      "text/plain": [
       "[287, 133, 41]"
      ]
     },
     "execution_count": 5,
     "metadata": {},
     "output_type": "execute_result"
    }
   ],
   "source": [
    "[len(sent) for sent in sents][:3]"
   ]
  },
  {
   "cell_type": "code",
   "execution_count": 6,
   "metadata": {},
   "outputs": [
    {
     "data": {
      "text/plain": [
       "[287, 133, 41]"
      ]
     },
     "execution_count": 6,
     "metadata": {},
     "output_type": "execute_result"
    }
   ],
   "source": [
    "list(map(len, sents))[:3]"
   ]
  },
  {
   "cell_type": "markdown",
   "metadata": {},
   "source": [
    "2. Считайте файл `Dostoevskiy Fedor. Igrok - BooksCafe.Net.txt` и разбейте на предложения. Выведите предложения, длина которых не более 10 символов."
   ]
  },
  {
   "cell_type": "code",
   "execution_count": 7,
   "metadata": {},
   "outputs": [
    {
     "data": {
      "text/plain": [
       "['— ton).]', '—\\xa0Плюнуть?', '«Как!']"
      ]
     },
     "execution_count": 7,
     "metadata": {},
     "output_type": "execute_result"
    }
   ],
   "source": [
    "[sent for sent in sents if len(sent) <= 10][:3]"
   ]
  },
  {
   "cell_type": "code",
   "execution_count": 9,
   "metadata": {},
   "outputs": [
    {
     "data": {
      "text/plain": [
       "['— ton).]', '—\\xa0Плюнуть?', '«Как!']"
      ]
     },
     "execution_count": 9,
     "metadata": {},
     "output_type": "execute_result"
    }
   ],
   "source": [
    "list(filter(lambda sent: len(sent) <= 10, sents))[:3]"
   ]
  },
  {
   "cell_type": "markdown",
   "metadata": {},
   "source": [
    "3. На основе списка предложений из задачи 1-2 создайте `dask.bag`. Рассчитайте среднюю длину предложений в тексте."
   ]
  },
  {
   "cell_type": "code",
   "execution_count": 15,
   "metadata": {},
   "outputs": [
    {
     "data": {
      "text/plain": [
       "72.89840944073885"
      ]
     },
     "execution_count": 15,
     "metadata": {},
     "output_type": "execute_result"
    }
   ],
   "source": [
    "bag = db.from_sequence(sents)\n",
    "bag.map(len).mean().compute()"
   ]
  },
  {
   "cell_type": "markdown",
   "metadata": {},
   "source": [
    "4. На основе файла `addres_book.json` создайте `dask.bag`. Посчитайте количество мобильных и рабочих телефонов в наборе данных"
   ]
  },
  {
   "cell_type": "code",
   "execution_count": 16,
   "metadata": {},
   "outputs": [
    {
     "data": {
      "text/plain": [
       "{'name': 'Faina Lee',\n",
       " 'email': 'faina@mail.ru',\n",
       " 'birthday': '22.08.1994',\n",
       " 'phones': [{'phone': '232-19-55'}, {'phone': '+7 (916) 232-19-55'}]}"
      ]
     },
     "execution_count": 16,
     "metadata": {},
     "output_type": "execute_result"
    }
   ],
   "source": [
    "data = json.load(open(path1 + 'addres-book.json'))\n",
    "data[0]"
   ]
  },
  {
   "cell_type": "code",
   "execution_count": 17,
   "metadata": {},
   "outputs": [
    {
     "data": {
      "text/plain": [
       "dask.bag<from_sequence, npartitions=8>"
      ]
     },
     "execution_count": 17,
     "metadata": {},
     "output_type": "execute_result"
    }
   ],
   "source": [
    "bag = db.from_sequence(data)\n",
    "bag"
   ]
  },
  {
   "cell_type": "code",
   "execution_count": 19,
   "metadata": {},
   "outputs": [
    {
     "data": {
      "text/plain": [
       "[[{'phone': '232-19-55'}, {'phone': '+7 (916) 232-19-55'}],\n",
       " [{'phone': '111-19-55'}],\n",
       " [{'phone': '232-19-56'}, {'phone': '+7 (916) 232-19-56'}],\n",
       " [{'phone': '+7 (916) 445-19-57'}],\n",
       " [{'phone': '232-19-58'}, {'phone': '+7 (916) 232-19-58'}],\n",
       " [{'phone': '+7 (916) 445-19-59'}],\n",
       " [{'phone': '232-19-50'}, {'phone': '+7 (916) 232-19-50'}],\n",
       " [{'phone': '111-19-51'}, {'phone': '+7 (916) 445-19-51'}]]"
      ]
     },
     "execution_count": 19,
     "metadata": {},
     "output_type": "execute_result"
    }
   ],
   "source": [
    "bag.map(lambda record: record['phones']).compute()"
   ]
  },
  {
   "cell_type": "code",
   "execution_count": 21,
   "metadata": {},
   "outputs": [
    {
     "data": {
      "text/plain": [
       "[{'phone': '232-19-55'},\n",
       " {'phone': '+7 (916) 232-19-55'},\n",
       " {'phone': '111-19-55'},\n",
       " {'phone': '232-19-56'},\n",
       " {'phone': '+7 (916) 232-19-56'},\n",
       " {'phone': '+7 (916) 445-19-57'},\n",
       " {'phone': '232-19-58'},\n",
       " {'phone': '+7 (916) 232-19-58'},\n",
       " {'phone': '+7 (916) 445-19-59'},\n",
       " {'phone': '232-19-50'},\n",
       " {'phone': '+7 (916) 232-19-50'},\n",
       " {'phone': '111-19-51'},\n",
       " {'phone': '+7 (916) 445-19-51'}]"
      ]
     },
     "execution_count": 21,
     "metadata": {},
     "output_type": "execute_result"
    }
   ],
   "source": [
    "bag.pluck('phones').flatten().compute()"
   ]
  },
  {
   "cell_type": "code",
   "execution_count": 26,
   "metadata": {},
   "outputs": [],
   "source": [
    "# При помощи map можно данные изменять\n",
    "def add_type(record):\n",
    "    record[\"type\"] = 'mobile' if record['phone'].startswith('+7') else 'work'\n",
    "    return record"
   ]
  },
  {
   "cell_type": "code",
   "execution_count": 34,
   "metadata": {},
   "outputs": [
    {
     "data": {
      "text/plain": [
       "[{'phone': '232-19-55', 'type': 'work'},\n",
       " {'phone': '+7 (916) 232-19-55', 'type': 'mobile'},\n",
       " {'phone': '111-19-55', 'type': 'work'},\n",
       " {'phone': '232-19-56', 'type': 'work'},\n",
       " {'phone': '+7 (916) 232-19-56', 'type': 'mobile'},\n",
       " {'phone': '+7 (916) 445-19-57', 'type': 'mobile'},\n",
       " {'phone': '232-19-58', 'type': 'work'},\n",
       " {'phone': '+7 (916) 232-19-58', 'type': 'mobile'},\n",
       " {'phone': '+7 (916) 445-19-59', 'type': 'mobile'},\n",
       " {'phone': '232-19-50', 'type': 'work'},\n",
       " {'phone': '+7 (916) 232-19-50', 'type': 'mobile'},\n",
       " {'phone': '111-19-51', 'type': 'work'},\n",
       " {'phone': '+7 (916) 445-19-51', 'type': 'mobile'}]"
      ]
     },
     "execution_count": 34,
     "metadata": {},
     "output_type": "execute_result"
    }
   ],
   "source": [
    "bag.pluck('phones').flatten().map(add_type).compute()"
   ]
  },
  {
   "cell_type": "code",
   "execution_count": 31,
   "metadata": {},
   "outputs": [
    {
     "data": {
      "text/plain": [
       "[('work', 6), ('mobile', 7)]"
      ]
     },
     "execution_count": 31,
     "metadata": {},
     "output_type": "execute_result"
    }
   ],
   "source": [
    "bag.pluck('phones') \\\n",
    "    .flatten() \\\n",
    "    .map(add_type) \\\n",
    "    .pluck('type') \\\n",
    "    .frequencies() \\\n",
    "    .compute()"
   ]
  },
  {
   "cell_type": "code",
   "execution_count": 35,
   "metadata": {},
   "outputs": [],
   "source": [
    "def binop(total, value):\n",
    "    return total + 1"
   ]
  },
  {
   "cell_type": "code",
   "execution_count": 37,
   "metadata": {},
   "outputs": [],
   "source": [
    "def combine(left, right):\n",
    "    return left + right"
   ]
  },
  {
   "cell_type": "code",
   "execution_count": 38,
   "metadata": {},
   "outputs": [
    {
     "data": {
      "text/plain": [
       "[('work', 6), ('mobile', 7)]"
      ]
     },
     "execution_count": 38,
     "metadata": {},
     "output_type": "execute_result"
    }
   ],
   "source": [
    "bag.pluck('phones')\\\n",
    "    .flatten()\\\n",
    "    .map(add_type)\\\n",
    "    .foldby('type', binop, 0, combine, 0)\\\n",
    "    .compute()"
   ]
  },
  {
   "cell_type": "markdown",
   "metadata": {},
   "source": [
    "## Лабораторная работа 12"
   ]
  },
  {
   "cell_type": "markdown",
   "metadata": {},
   "source": [
    "1. В файлах архиве `reviews_full.zip` находятся файлы, содержащие информацию об отзывах к рецептам в формате JSON Lines. Отзывы разделены на файлы в зависимости от оценки (например, в файле `reviews_1.json` находятся отзывы с оценкой 1). Считайте файлы из этого архива в виде `dask.bag`. Преобразуйте текстовое содержимое файлов с помощью модуля `json`. Выведите на экран первые 5 элементов полученного `bag`."
   ]
  },
  {
   "cell_type": "code",
   "execution_count": 24,
   "metadata": {
    "scrolled": false
   },
   "outputs": [],
   "source": [
    "amount_files = 6\n",
    "recipes_files = []\n",
    "\n",
    "for i in range(amount_files):\n",
    "    recipes_files.append(db.read_text(path1 + f'reviews_{i}.json').map(json.loads))"
   ]
  },
  {
   "cell_type": "code",
   "execution_count": 25,
   "metadata": {
    "scrolled": true
   },
   "outputs": [
    {
     "data": {
      "text/plain": [
       "({'user_id': 452355,\n",
       "  'recipe_id': 292657,\n",
       "  'date': '2016-05-08',\n",
       "  'review': 'WOW!!! This is the best. I have never been able to make homemade enchiladas that taste like the Mexican restaurants. I made this last night for my family and they said they will never have enchiladas at the Mexican Restaurants again. Thanks for sharing.'},\n",
       " {'user_id': 329304,\n",
       "  'recipe_id': 433404,\n",
       "  'date': '2006-06-14',\n",
       "  'review': 'This was good but the dressing needed something and I found it to be a little too sweet, next time I will experiment with some garlic and herbs and reduce the sugar slightly, thanks for sharing kcdlong!...Kitten'},\n",
       " {'user_id': 227932,\n",
       "  'recipe_id': 2008187,\n",
       "  'date': '1985-11-19',\n",
       "  'review': 'Very good,it was a hit for my family. I used 6 cloves of garlic and had 1 lb beef and  Johnsonville sausage,1/2 lb hot and  1/2 lb honey garlic( which I wanted to use). That was a perfect combo for us. The sausage gave it nice flavor No guestion , I will be making this often.'},\n",
       " {'user_id': 171468,\n",
       "  'recipe_id': 270716,\n",
       "  'date': '2019-05-21',\n",
       "  'review': 'Made for ZWT-8 Family Picks after I saw these mentioned in the Family Picks thread. So I got up this morning, made my morning coffee while the oven was heating & then made these quick-fix sweet treats B4 I was ready for my 2nd cup of coffee. I used 8\" tortillas (all I had on-hand) & cut them into 8 wedges. Then I used 2 of my Pamperd Chef gadgets .. my sml basting brush to spread the honey on the warm tortillas & my flour/sugar shaker to sprinkle the powd sugar/cinnamon mixture atop the honeyed tortillas. It might have taken a total of 2 min from oven to tasting! Yum! Using the same \"sweet mix\" these would also be good w/butter, cream cheese or even lime juice. Can\\'t wait to try them w/lime juice! Thx for sharing this tasty little treat w/us.'},\n",
       " {'user_id': 91392,\n",
       "  'recipe_id': 1159916,\n",
       "  'date': '1972-09-18',\n",
       "  'review': \"Very nice slaw. I especially like that it doesn't have the mayo dressing. I used a prepackaged Cole slaw mix, so i didn't include the carrots nor the nuts. I also doubled the sauce. :)\"})"
      ]
     },
     "execution_count": 25,
     "metadata": {},
     "output_type": "execute_result"
    }
   ],
   "source": [
    "data_recipes_all = db.concat(recipes_files)\n",
    "data_recipes_all.take(5)"
   ]
  },
  {
   "cell_type": "markdown",
   "metadata": {},
   "source": [
    "2. Модифицируйте функцию разбора JSON таким образом, чтобы в каждый словарь c информацией об отзыве добавить ключ `rating`. Значение получите на основе названия файла (см. аргумент `include_path`), использовав для этого регулярное выражение."
   ]
  },
  {
   "cell_type": "code",
   "execution_count": 5,
   "metadata": {},
   "outputs": [],
   "source": [
    "def add_rating(record):\n",
    "    pattern = re.compile(r'(?<=reviews_)[0-9]{1,}(?=\\.json)')\n",
    "    \n",
    "    new_record = json.loads(record[0])\n",
    "    new_record[\"rating\"] = int(pattern.findall(record[1])[0])\n",
    "    \n",
    "    return new_record"
   ]
  },
  {
   "cell_type": "code",
   "execution_count": 26,
   "metadata": {},
   "outputs": [],
   "source": [
    "recipes_files_with_rating = []\n",
    "\n",
    "for i in range(amount_files):\n",
    "    recipes_files_with_rating.append(db.read_text(path1 + f'reviews_{i}.json', include_path=True).map(add_rating))"
   ]
  },
  {
   "cell_type": "code",
   "execution_count": 27,
   "metadata": {
    "scrolled": true
   },
   "outputs": [
    {
     "data": {
      "text/plain": [
       "({'user_id': 452355,\n",
       "  'recipe_id': 292657,\n",
       "  'date': '2016-05-08',\n",
       "  'review': 'WOW!!! This is the best. I have never been able to make homemade enchiladas that taste like the Mexican restaurants. I made this last night for my family and they said they will never have enchiladas at the Mexican Restaurants again. Thanks for sharing.',\n",
       "  'rating': 0},\n",
       " {'user_id': 329304,\n",
       "  'recipe_id': 433404,\n",
       "  'date': '2006-06-14',\n",
       "  'review': 'This was good but the dressing needed something and I found it to be a little too sweet, next time I will experiment with some garlic and herbs and reduce the sugar slightly, thanks for sharing kcdlong!...Kitten',\n",
       "  'rating': 0},\n",
       " {'user_id': 227932,\n",
       "  'recipe_id': 2008187,\n",
       "  'date': '1985-11-19',\n",
       "  'review': 'Very good,it was a hit for my family. I used 6 cloves of garlic and had 1 lb beef and  Johnsonville sausage,1/2 lb hot and  1/2 lb honey garlic( which I wanted to use). That was a perfect combo for us. The sausage gave it nice flavor No guestion , I will be making this often.',\n",
       "  'rating': 0},\n",
       " {'user_id': 171468,\n",
       "  'recipe_id': 270716,\n",
       "  'date': '2019-05-21',\n",
       "  'review': 'Made for ZWT-8 Family Picks after I saw these mentioned in the Family Picks thread. So I got up this morning, made my morning coffee while the oven was heating & then made these quick-fix sweet treats B4 I was ready for my 2nd cup of coffee. I used 8\" tortillas (all I had on-hand) & cut them into 8 wedges. Then I used 2 of my Pamperd Chef gadgets .. my sml basting brush to spread the honey on the warm tortillas & my flour/sugar shaker to sprinkle the powd sugar/cinnamon mixture atop the honeyed tortillas. It might have taken a total of 2 min from oven to tasting! Yum! Using the same \"sweet mix\" these would also be good w/butter, cream cheese or even lime juice. Can\\'t wait to try them w/lime juice! Thx for sharing this tasty little treat w/us.',\n",
       "  'rating': 0},\n",
       " {'user_id': 91392,\n",
       "  'recipe_id': 1159916,\n",
       "  'date': '1972-09-18',\n",
       "  'review': \"Very nice slaw. I especially like that it doesn't have the mayo dressing. I used a prepackaged Cole slaw mix, so i didn't include the carrots nor the nuts. I also doubled the sauce. :)\",\n",
       "  'rating': 0})"
      ]
     },
     "execution_count": 27,
     "metadata": {},
     "output_type": "execute_result"
    }
   ],
   "source": [
    "data_recipes_all_with_rating = db.concat(recipes_files_with_rating)\n",
    "data_recipes_all_with_rating.take(5)"
   ]
  },
  {
   "cell_type": "markdown",
   "metadata": {},
   "source": [
    "3. Посчитайте количество отзывов в исходном датасете."
   ]
  },
  {
   "cell_type": "code",
   "execution_count": 31,
   "metadata": {},
   "outputs": [
    {
     "data": {
      "text/plain": [
       "9057540"
      ]
     },
     "execution_count": 31,
     "metadata": {},
     "output_type": "execute_result"
    }
   ],
   "source": [
    "data_recipes_all.count().compute()"
   ]
  },
  {
   "cell_type": "markdown",
   "metadata": {},
   "source": [
    "4. Отфильтруйте `bag`, сохранив только отзывы, оставленные в 2014 и 2015 годах."
   ]
  },
  {
   "cell_type": "code",
   "execution_count": 55,
   "metadata": {},
   "outputs": [],
   "source": [
    "data_recipes_all_filtered = data_recipes_all_with_rating.filter(\n",
    "    lambda elem: dt.strptime(elem['date'], '%Y-%m-%d') >= dt.strptime(\"2014-01-01\", '%Y-%m-%d') and\n",
    "    dt.strptime(elem['date'], '%Y-%m-%d') < dt.strptime(\"2016-01-01\", '%Y-%m-%d')\n",
    ")"
   ]
  },
  {
   "cell_type": "code",
   "execution_count": 56,
   "metadata": {
    "scrolled": true
   },
   "outputs": [
    {
     "data": {
      "text/plain": [
       "({'user_id': 229850,\n",
       "  'recipe_id': 1300038,\n",
       "  'date': '2014-10-03',\n",
       "  'review': 'Took this to a New Year&#039;s Eve Party. Everyone loved it! It&#039;s absolutely perfect, the flavor, the crunch, just delicious!',\n",
       "  'rating': 0},\n",
       " {'user_id': 2706705,\n",
       "  'recipe_id': 133747,\n",
       "  'date': '2015-05-08',\n",
       "  'review': 'Simple and easy way to enjoy a slice of pizza any time!  Well-toasted bread is the key - really toast it!  I put a bit of pizza sauce underneath my cheese for a more pizza-like flavor.  I used sourdough bread & medium cheddar cheese.  Fast & fun!  Great idea!  Made for 1-2-3 Hits Tag Game.',\n",
       "  'rating': 0},\n",
       " {'user_id': 945545,\n",
       "  'recipe_id': 898468,\n",
       "  'date': '2015-06-30',\n",
       "  'review': 'Delish!  I wanted to make this spicy so I used hot enchilada sauce and jalapeno refried beans.  I forgot to buy the onions so I doctored up the beans with onion powder and granulated garlic.  Added the olives under the cheese and baked, uncovered, for the 25 minutes.  Served with pico de gallo, sour cream and avocado chunks.  Fantastic!  Thanks for sharing, lazyme!',\n",
       "  'rating': 0},\n",
       " {'user_id': 262915,\n",
       "  'recipe_id': 1657686,\n",
       "  'date': '2015-11-29',\n",
       "  'review': 'This is seriously delicious.  I mixed it up the night before and baked it in the morning before work.  Made the sauce the night before and refrigerated overnight and heated in microwave.  Such an unusual combination but it kind of reminded me of the pancake on a stick that my kids used to get at the convenience store (sausage wrapped in a pancake, kind of like a corn dog.  Making it again this week and will try to get a pic this time!',\n",
       "  'rating': 0},\n",
       " {'user_id': 2000408662,\n",
       "  'recipe_id': 128848,\n",
       "  'date': '2015-08-17',\n",
       "  'review': 'Many thanks. Found the recipe truly marvellous! I can now make full use of the lemons growing in my garden.The marmalade was delicious and very easy to make. Since it was the first time, I didn&#039;t want to use a large quantity and so I halved the measures after converting them into grams. Please could we have measurements of ingredients in  recipes in the metric system, i.e. grams and litres,and not in pounds?  Now I am going to search for a recipe to make lemon squash',\n",
       "  'rating': 0},\n",
       " {'user_id': 1803736692,\n",
       "  'recipe_id': 180306,\n",
       "  'date': '2015-02-02',\n",
       "  'review': 'Thank you very much for this recipe! My daughter is allergic to gluten. In Poland we have no shops with gluten free products so I have to prepare it by myself . And finally I found great recipe!:)',\n",
       "  'rating': 0},\n",
       " {'user_id': 226863,\n",
       "  'recipe_id': 2047275,\n",
       "  'date': '2015-03-13',\n",
       "  'review': \"This was SO fun to make :) It was my first tempura and I made it with my mom for ZWT6. The recipe was easy to follow and it turned out very delicious. The plum sauce is the best sweet & sour sauce I've had so far, so it is going in my permanent recipe folder :D\",\n",
       "  'rating': 0},\n",
       " {'user_id': 86318,\n",
       "  'recipe_id': 220950,\n",
       "  'date': '2014-03-06',\n",
       "  'review': 'I don&#039;t know whether my harissa is extremely weak or not, but the 1/2 teaspoon didn&#039;t seem to flavor anything (of course, the sensitivity of the person eating also needs to be considered - I prefer to eat hot, spicy food). I added more harissa, to get about a tablespoon, total. That was all I had, but I was still not so happy with it. And then, instead of lemon juice and parsley, I decided that chopped coriander was what this recipe needed. It was okay. As you can see, I changed the recipe all around, so do not feel comfortable assigning stars. I do think I&#039;ll seek out recipes with more promise of fire. Thank you for the experience.',\n",
       "  'rating': 0},\n",
       " {'user_id': 46300491,\n",
       "  'recipe_id': 22171,\n",
       "  'date': '2014-03-26',\n",
       "  'review': 'I made these into balls and dipped them in melted chocolate instead of the cinnamon. They were delicious.  Just a little tip:  When you melt chocolate wafers for dipping, add about 1/2 tsp. of solid shortening (Crisco, etc.).  It makes the chocolate a little thinner.',\n",
       "  'rating': 0},\n",
       " {'user_id': 88099,\n",
       "  'recipe_id': 1866173,\n",
       "  'date': '2014-07-09',\n",
       "  'review': 'This is a very hearty soup and there is a ton of it for leftovers.  I am only giving it three stars, because it seemed to need a bit more seasoning for my tastes. Thank you for sharing.',\n",
       "  'rating': 0})"
      ]
     },
     "execution_count": 56,
     "metadata": {},
     "output_type": "execute_result"
    }
   ],
   "source": [
    "data_recipes_all_filtered.take(10)"
   ]
  },
  {
   "cell_type": "markdown",
   "metadata": {},
   "source": [
    "5. Выполните препроцессинг отзывов:\n",
    "    * привести строки к нижнему регистру\n",
    "    * обрезать пробельные символы в начале и конце строки\n",
    "    * удалите все символы, кроме английских букв и пробелов\n",
    "    \n",
    "Примените препроцессинг ко всем записям из `bag`, полученного в задании 4."
   ]
  },
  {
   "cell_type": "code",
   "execution_count": 57,
   "metadata": {},
   "outputs": [],
   "source": [
    "def data_preproccessed(record):\n",
    "    record[\"review\"] = record[\"review\"].lower().strip()\n",
    "    record[\"review\"] = re.sub(\"[^a-z ]\", \"\", record[\"review\"])\n",
    "    return record"
   ]
  },
  {
   "cell_type": "code",
   "execution_count": 58,
   "metadata": {},
   "outputs": [],
   "source": [
    "data_recipes_all_filtered = db.from_sequence(data_recipes_all_filtered.map(data_preproccessed).compute())"
   ]
  },
  {
   "cell_type": "code",
   "execution_count": 63,
   "metadata": {
    "scrolled": true
   },
   "outputs": [
    {
     "data": {
      "text/plain": [
       "({'user_id': 229850,\n",
       "  'recipe_id': 1300038,\n",
       "  'date': '2014-10-03',\n",
       "  'review': 'took this to a new years eve party everyone loved it its absolutely perfect the flavor the crunch just delicious',\n",
       "  'rating': 0},\n",
       " {'user_id': 2706705,\n",
       "  'recipe_id': 133747,\n",
       "  'date': '2015-05-08',\n",
       "  'review': 'simple and easy way to enjoy a slice of pizza any time  welltoasted bread is the key  really toast it  i put a bit of pizza sauce underneath my cheese for a more pizzalike flavor  i used sourdough bread  medium cheddar cheese  fast  fun  great idea  made for  hits tag game',\n",
       "  'rating': 0},\n",
       " {'user_id': 945545,\n",
       "  'recipe_id': 898468,\n",
       "  'date': '2015-06-30',\n",
       "  'review': 'delish  i wanted to make this spicy so i used hot enchilada sauce and jalapeno refried beans  i forgot to buy the onions so i doctored up the beans with onion powder and granulated garlic  added the olives under the cheese and baked uncovered for the  minutes  served with pico de gallo sour cream and avocado chunks  fantastic  thanks for sharing lazyme',\n",
       "  'rating': 0},\n",
       " {'user_id': 262915,\n",
       "  'recipe_id': 1657686,\n",
       "  'date': '2015-11-29',\n",
       "  'review': 'this is seriously delicious  i mixed it up the night before and baked it in the morning before work  made the sauce the night before and refrigerated overnight and heated in microwave  such an unusual combination but it kind of reminded me of the pancake on a stick that my kids used to get at the convenience store sausage wrapped in a pancake kind of like a corn dog  making it again this week and will try to get a pic this time',\n",
       "  'rating': 0},\n",
       " {'user_id': 2000408662,\n",
       "  'recipe_id': 128848,\n",
       "  'date': '2015-08-17',\n",
       "  'review': 'many thanks found the recipe truly marvellous i can now make full use of the lemons growing in my gardenthe marmalade was delicious and very easy to make since it was the first time i didnt want to use a large quantity and so i halved the measures after converting them into grams please could we have measurements of ingredients in  recipes in the metric system ie grams and litresand not in pounds  now i am going to search for a recipe to make lemon squash',\n",
       "  'rating': 0})"
      ]
     },
     "execution_count": 63,
     "metadata": {},
     "output_type": "execute_result"
    }
   ],
   "source": [
    "data_recipes_all_filtered.take(5)"
   ]
  },
  {
   "cell_type": "markdown",
   "metadata": {},
   "source": [
    "6. Посчитайте количество отзывов в датасете, полученном в результате решения задачи 5. В случае ошибок прокомментируйте результат и исправьте функцию препроцессинга."
   ]
  },
  {
   "cell_type": "code",
   "execution_count": 61,
   "metadata": {},
   "outputs": [
    {
     "data": {
      "text/plain": [
       "735274"
      ]
     },
     "execution_count": 61,
     "metadata": {},
     "output_type": "execute_result"
    }
   ],
   "source": [
    "data_recipes_all_filtered.count().compute()"
   ]
  },
  {
   "cell_type": "markdown",
   "metadata": {},
   "source": [
    "7. Посчитайте, как часто в наборе, полученном в задании 5, встречается та или иная оценка."
   ]
  },
  {
   "cell_type": "code",
   "execution_count": 40,
   "metadata": {},
   "outputs": [
    {
     "data": {
      "text/plain": [
       "[(0, 42472), (1, 9246), (2, 9380), (3, 26532), (4, 119413), (5, 528231)]"
      ]
     },
     "execution_count": 40,
     "metadata": {},
     "output_type": "execute_result"
    }
   ],
   "source": [
    "data_recipes_all_filtered.pluck('rating').frequencies().compute()"
   ]
  },
  {
   "cell_type": "markdown",
   "metadata": {},
   "source": [
    "8. Найдите среднее значение `rating` в наборе, полученном в задании 5."
   ]
  },
  {
   "cell_type": "code",
   "execution_count": 62,
   "metadata": {},
   "outputs": [
    {
     "data": {
      "text/plain": [
       "4.388036296673077"
      ]
     },
     "execution_count": 62,
     "metadata": {},
     "output_type": "execute_result"
    }
   ],
   "source": [
    "data_recipes_all_filtered.pluck('rating').mean().compute()"
   ]
  },
  {
   "cell_type": "markdown",
   "metadata": {},
   "source": [
    "9. Используя метод `foldby`, подсчитать максимальную длину отзывов в зависимости от оценки `rating` в наборе, полученном в задании 5."
   ]
  },
  {
   "cell_type": "code",
   "execution_count": 101,
   "metadata": {},
   "outputs": [],
   "source": [
    "def binop(total, value):\n",
    "    return max(total, value, key=lambda value: len(value[\"review\"]))"
   ]
  },
  {
   "cell_type": "code",
   "execution_count": 106,
   "metadata": {},
   "outputs": [],
   "source": [
    "def find_len(record):\n",
    "    return {record[0]: len(record[1][\"review\"])}"
   ]
  },
  {
   "cell_type": "code",
   "execution_count": 107,
   "metadata": {},
   "outputs": [
    {
     "data": {
      "text/plain": [
       "[{0: 6548}, {1: 2868}, {2: 2834}, {3: 3174}, {4: 6548}, {5: 5343}]"
      ]
     },
     "execution_count": 107,
     "metadata": {},
     "output_type": "execute_result"
    }
   ],
   "source": [
    "data_recipes_all_filtered.foldby('rating', binop).map(find_len).compute()"
   ]
  }
 ],
 "metadata": {
  "kernelspec": {
   "display_name": "Python 3",
   "language": "python",
   "name": "python3"
  },
  "language_info": {
   "codemirror_mode": {
    "name": "ipython",
    "version": 3
   },
   "file_extension": ".py",
   "mimetype": "text/x-python",
   "name": "python",
   "nbconvert_exporter": "python",
   "pygments_lexer": "ipython3",
   "version": "3.7.3"
  }
 },
 "nbformat": 4,
 "nbformat_minor": 4
}
