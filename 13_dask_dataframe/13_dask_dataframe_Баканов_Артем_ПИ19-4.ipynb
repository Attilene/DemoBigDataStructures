{
 "cells": [
  {
   "cell_type": "markdown",
   "metadata": {},
   "source": [
    "# Dask DataFrame"
   ]
  },
  {
   "cell_type": "markdown",
   "metadata": {},
   "source": [
    "Материалы: \n",
    "* Макрушин С.В. Лекция 13: Dask DataFrame\n",
    "* https://docs.dask.org/en/latest/dataframe.html\n",
    "* Jesse C. Daniel. Data Science with Python and Dask. "
   ]
  },
  {
   "cell_type": "code",
   "execution_count": 1,
   "metadata": {},
   "outputs": [],
   "source": [
    "import dask.dataframe as dd\n",
    "import dask.bag as db\n",
    "import pandas as pd\n",
    "import datetime\n",
    "import json\n",
    "import dask\n",
    "import re"
   ]
  },
  {
   "cell_type": "code",
   "execution_count": 2,
   "metadata": {},
   "outputs": [],
   "source": [
    "path1 = \"D:/FinUniver/Технологии обработки больших данных/Семинары/13_dask_dataframe/13_dask_dataframe_data/\"\n",
    "path2 = \"D:/FinUniver/Технологии обработки больших данных/Семинары/12_dask_bag/12_dask_bag_data/\""
   ]
  },
  {
   "cell_type": "markdown",
   "metadata": {},
   "source": [
    "## Задачи для совместного разбора"
   ]
  },
  {
   "cell_type": "markdown",
   "metadata": {},
   "source": [
    "1. Считать данные из файлов в каталоге `accounts`. Содержат ли какие-либо из столбцов пропуски?"
   ]
  },
  {
   "cell_type": "code",
   "execution_count": 6,
   "metadata": {},
   "outputs": [
    {
     "data": {
      "text/html": [
       "<div><strong>Dask DataFrame Structure:</strong></div>\n",
       "<div>\n",
       "<style scoped>\n",
       "    .dataframe tbody tr th:only-of-type {\n",
       "        vertical-align: middle;\n",
       "    }\n",
       "\n",
       "    .dataframe tbody tr th {\n",
       "        vertical-align: top;\n",
       "    }\n",
       "\n",
       "    .dataframe thead th {\n",
       "        text-align: right;\n",
       "    }\n",
       "</style>\n",
       "<table border=\"1\" class=\"dataframe\">\n",
       "  <thead>\n",
       "    <tr style=\"text-align: right;\">\n",
       "      <th></th>\n",
       "      <th>id</th>\n",
       "      <th>names</th>\n",
       "      <th>amount</th>\n",
       "    </tr>\n",
       "    <tr>\n",
       "      <th>npartitions=3</th>\n",
       "      <th></th>\n",
       "      <th></th>\n",
       "      <th></th>\n",
       "    </tr>\n",
       "  </thead>\n",
       "  <tbody>\n",
       "    <tr>\n",
       "      <th></th>\n",
       "      <td>int64</td>\n",
       "      <td>object</td>\n",
       "      <td>float64</td>\n",
       "    </tr>\n",
       "    <tr>\n",
       "      <th></th>\n",
       "      <td>...</td>\n",
       "      <td>...</td>\n",
       "      <td>...</td>\n",
       "    </tr>\n",
       "    <tr>\n",
       "      <th></th>\n",
       "      <td>...</td>\n",
       "      <td>...</td>\n",
       "      <td>...</td>\n",
       "    </tr>\n",
       "    <tr>\n",
       "      <th></th>\n",
       "      <td>...</td>\n",
       "      <td>...</td>\n",
       "      <td>...</td>\n",
       "    </tr>\n",
       "  </tbody>\n",
       "</table>\n",
       "</div>\n",
       "<div>Dask Name: read-csv, 3 tasks</div>"
      ],
      "text/plain": [
       "Dask DataFrame Structure:\n",
       "                  id   names   amount\n",
       "npartitions=3                        \n",
       "               int64  object  float64\n",
       "                 ...     ...      ...\n",
       "                 ...     ...      ...\n",
       "                 ...     ...      ...\n",
       "Dask Name: read-csv, 3 tasks"
      ]
     },
     "execution_count": 6,
     "metadata": {},
     "output_type": "execute_result"
    }
   ],
   "source": [
    "accounts = dd.read_csv(path1 + 'accounts.*.csv', dtype={'amount': 'float64'})\n",
    "accounts"
   ]
  },
  {
   "cell_type": "code",
   "execution_count": 7,
   "metadata": {},
   "outputs": [
    {
     "data": {
      "text/plain": [
       "id        0\n",
       "names     0\n",
       "amount    3\n",
       "dtype: int64"
      ]
     },
     "execution_count": 7,
     "metadata": {},
     "output_type": "execute_result"
    }
   ],
   "source": [
    "accounts.isna().sum().compute()"
   ]
  },
  {
   "cell_type": "markdown",
   "metadata": {},
   "source": [
    "2. Подсчитать количество раз, которое то или иное имя встретилось в выборке. Вывести самое часто встречающееся имя."
   ]
  },
  {
   "cell_type": "code",
   "execution_count": 8,
   "metadata": {
    "scrolled": true
   },
   "outputs": [
    {
     "data": {
      "text/plain": [
       "names\n",
       "Alice       185892\n",
       "Bob         157065\n",
       "Charlie     109236\n",
       "Dan          73293\n",
       "Edith        89991\n",
       "Frank        99984\n",
       "George      183249\n",
       "Hannah      108632\n",
       "Ingrid      132067\n",
       "Jerry        96378\n",
       "Kevin        84784\n",
       "Laura        97216\n",
       "Michael     148372\n",
       "Norbert     188147\n",
       "Oliver      121907\n",
       "Patricia     62881\n",
       "Quinn       118071\n",
       "Ray         108610\n",
       "Sarah       104781\n",
       "Tim         162432\n",
       "Ursula      108745\n",
       "Victor      102656\n",
       "Wendy       110657\n",
       "Xavier       94445\n",
       "Yvonne       61462\n",
       "Zelda        89047\n",
       "dtype: int64"
      ]
     },
     "execution_count": 8,
     "metadata": {},
     "output_type": "execute_result"
    }
   ],
   "source": [
    "accounts.groupby('names').size().compute()"
   ]
  },
  {
   "cell_type": "code",
   "execution_count": 13,
   "metadata": {
    "scrolled": true
   },
   "outputs": [
    {
     "data": {
      "text/plain": [
       "Norbert     188147\n",
       "Alice       185892\n",
       "George      183249\n",
       "Tim         162432\n",
       "Bob         157065\n",
       "Michael     148372\n",
       "Ingrid      132067\n",
       "Oliver      121907\n",
       "Quinn       118071\n",
       "Wendy       110657\n",
       "Charlie     109236\n",
       "Ursula      108745\n",
       "Hannah      108632\n",
       "Ray         108610\n",
       "Sarah       104781\n",
       "Victor      102656\n",
       "Frank        99984\n",
       "Laura        97216\n",
       "Jerry        96378\n",
       "Xavier       94445\n",
       "Edith        89991\n",
       "Zelda        89047\n",
       "Kevin        84784\n",
       "Dan          73293\n",
       "Patricia     62881\n",
       "Yvonne       61462\n",
       "Name: names, dtype: int64"
      ]
     },
     "execution_count": 13,
     "metadata": {},
     "output_type": "execute_result"
    }
   ],
   "source": [
    "accounts['names'].value_counts().compute()"
   ]
  },
  {
   "cell_type": "code",
   "execution_count": 15,
   "metadata": {
    "scrolled": true
   },
   "outputs": [
    {
     "name": "stdout",
     "output_type": "stream",
     "text": [
      "Wall time: 929 ms\n"
     ]
    },
    {
     "data": {
      "text/plain": [
       "(names\n",
       " Alice       121135049.0\n",
       " Bob         134707661.0\n",
       " Charlie     190678161.0\n",
       " Dan          67436523.0\n",
       " Edith        94317280.0\n",
       " Frank       132918185.0\n",
       " George      171385330.0\n",
       " Hannah      134076218.0\n",
       " Ingrid      162441094.0\n",
       " Jerry        49464228.0\n",
       " Kevin        92375351.0\n",
       " Laura       193055407.0\n",
       " Michael     392087039.0\n",
       " Norbert     142008672.0\n",
       " Oliver       48824444.0\n",
       " Patricia     58811563.0\n",
       " Quinn       145487072.0\n",
       " Ray          54871516.0\n",
       " Sarah        83719740.0\n",
       " Tim         165616261.0\n",
       " Ursula       36921307.0\n",
       " Victor       77636440.0\n",
       " Wendy        86795738.0\n",
       " Xavier      168807871.0\n",
       " Yvonne       24933113.0\n",
       " Zelda        62402294.0\n",
       " Name: amount, dtype: float64, names\n",
       " Alice        651.642077\n",
       " Bob          857.655499\n",
       " Charlie     1745.577526\n",
       " Dan          920.095002\n",
       " Edith       1048.074585\n",
       " Frank       1329.394553\n",
       " George       935.259292\n",
       " Hannah      1234.223967\n",
       " Ingrid      1229.990035\n",
       " Jerry        513.231526\n",
       " Kevin       1089.550393\n",
       " Laura       1985.839851\n",
       " Michael     2642.594553\n",
       " Norbert      754.775107\n",
       " Oliver       400.505664\n",
       " Patricia     935.283520\n",
       " Quinn       1232.199880\n",
       " Ray          505.220709\n",
       " Sarah        798.997337\n",
       " Tim         1019.603656\n",
       " Ursula       339.521881\n",
       " Victor       756.277665\n",
       " Wendy        784.367351\n",
       " Xavier      1787.366944\n",
       " Yvonne       405.667128\n",
       " Zelda        700.779296\n",
       " Name: amount, dtype: float64)"
      ]
     },
     "execution_count": 15,
     "metadata": {},
     "output_type": "execute_result"
    }
   ],
   "source": [
    "%%time\n",
    "dask.compute(accounts.groupby('names')['amount'].sum(),\n",
    "             accounts.groupby('names')['amount'].mean())"
   ]
  },
  {
   "cell_type": "markdown",
   "metadata": {},
   "source": [
    "3. Создать новую колонку, которая является результатом от деления значения `amount` нацело на 100, если `amount` > 100, и нулём в противном случае."
   ]
  },
  {
   "cell_type": "code",
   "execution_count": 20,
   "metadata": {},
   "outputs": [],
   "source": [
    "def f(x):\n",
    "    if x > 100:\n",
    "        return x // 100\n",
    "    return 0"
   ]
  },
  {
   "cell_type": "code",
   "execution_count": 21,
   "metadata": {},
   "outputs": [
    {
     "data": {
      "text/html": [
       "<div>\n",
       "<style scoped>\n",
       "    .dataframe tbody tr th:only-of-type {\n",
       "        vertical-align: middle;\n",
       "    }\n",
       "\n",
       "    .dataframe tbody tr th {\n",
       "        vertical-align: top;\n",
       "    }\n",
       "\n",
       "    .dataframe thead th {\n",
       "        text-align: right;\n",
       "    }\n",
       "</style>\n",
       "<table border=\"1\" class=\"dataframe\">\n",
       "  <thead>\n",
       "    <tr style=\"text-align: right;\">\n",
       "      <th></th>\n",
       "      <th>id</th>\n",
       "      <th>names</th>\n",
       "      <th>amount</th>\n",
       "      <th>new_column</th>\n",
       "    </tr>\n",
       "  </thead>\n",
       "  <tbody>\n",
       "    <tr>\n",
       "      <th>0</th>\n",
       "      <td>39</td>\n",
       "      <td>Victor</td>\n",
       "      <td>205.0</td>\n",
       "      <td>2.0</td>\n",
       "    </tr>\n",
       "    <tr>\n",
       "      <th>1</th>\n",
       "      <td>289</td>\n",
       "      <td>Hannah</td>\n",
       "      <td>87.0</td>\n",
       "      <td>0.0</td>\n",
       "    </tr>\n",
       "    <tr>\n",
       "      <th>2</th>\n",
       "      <td>234</td>\n",
       "      <td>Victor</td>\n",
       "      <td>1820.0</td>\n",
       "      <td>18.0</td>\n",
       "    </tr>\n",
       "    <tr>\n",
       "      <th>3</th>\n",
       "      <td>155</td>\n",
       "      <td>Ray</td>\n",
       "      <td>-600.0</td>\n",
       "      <td>0.0</td>\n",
       "    </tr>\n",
       "    <tr>\n",
       "      <th>4</th>\n",
       "      <td>266</td>\n",
       "      <td>Ray</td>\n",
       "      <td>572.0</td>\n",
       "      <td>5.0</td>\n",
       "    </tr>\n",
       "  </tbody>\n",
       "</table>\n",
       "</div>"
      ],
      "text/plain": [
       "    id   names  amount  new_column\n",
       "0   39  Victor   205.0         2.0\n",
       "1  289  Hannah    87.0         0.0\n",
       "2  234  Victor  1820.0        18.0\n",
       "3  155     Ray  -600.0         0.0\n",
       "4  266     Ray   572.0         5.0"
      ]
     },
     "execution_count": 21,
     "metadata": {},
     "output_type": "execute_result"
    }
   ],
   "source": [
    "accounts['new_column'] = accounts['amount'].map(f)\n",
    "accounts.head()"
   ]
  },
  {
   "cell_type": "markdown",
   "metadata": {},
   "source": [
    "## Лабораторная работа 13"
   ]
  },
  {
   "cell_type": "markdown",
   "metadata": {},
   "source": [
    "__При решении данных задач не подразумевается использования других коллекций, кроме `dask.DataFrame`, если в задании явно не указано обратное.__"
   ]
  },
  {
   "cell_type": "markdown",
   "metadata": {},
   "source": [
    "1. В архиве `recipes_full.zip` находятся файлы, содержащие информацию об рецептах блюд. Загрузите данные из файлов этого архива в виде `dd.DataFrame` с названием `recipes`. Укажите, что в столбце `submitted` содержатся даты."
   ]
  },
  {
   "cell_type": "code",
   "execution_count": 3,
   "metadata": {},
   "outputs": [],
   "source": [
    "recipes = dd.read_csv(path1 + 'recipes_full_*.csv', \n",
    "                      parse_dates = [\"submitted\"],\n",
    "                      dtype={'minutes': 'float64', 'n_steps': 'float64'})"
   ]
  },
  {
   "cell_type": "markdown",
   "metadata": {},
   "source": [
    "2. Выведите метаинформацию о таблице: `npartitions` и типы столбцов."
   ]
  },
  {
   "cell_type": "code",
   "execution_count": 4,
   "metadata": {},
   "outputs": [
    {
     "data": {
      "text/plain": [
       "16"
      ]
     },
     "execution_count": 4,
     "metadata": {},
     "output_type": "execute_result"
    }
   ],
   "source": [
    "recipes.npartitions"
   ]
  },
  {
   "cell_type": "code",
   "execution_count": 4,
   "metadata": {
    "scrolled": true
   },
   "outputs": [
    {
     "data": {
      "text/html": [
       "<div><strong>Dask DataFrame Structure:</strong></div>\n",
       "<div>\n",
       "<style scoped>\n",
       "    .dataframe tbody tr th:only-of-type {\n",
       "        vertical-align: middle;\n",
       "    }\n",
       "\n",
       "    .dataframe tbody tr th {\n",
       "        vertical-align: top;\n",
       "    }\n",
       "\n",
       "    .dataframe thead th {\n",
       "        text-align: right;\n",
       "    }\n",
       "</style>\n",
       "<table border=\"1\" class=\"dataframe\">\n",
       "  <thead>\n",
       "    <tr style=\"text-align: right;\">\n",
       "      <th></th>\n",
       "      <th>id</th>\n",
       "      <th>name</th>\n",
       "      <th>minutes</th>\n",
       "      <th>contributor_id</th>\n",
       "      <th>submitted</th>\n",
       "      <th>n_steps</th>\n",
       "      <th>description</th>\n",
       "      <th>n_ingredients</th>\n",
       "    </tr>\n",
       "    <tr>\n",
       "      <th>npartitions=16</th>\n",
       "      <th></th>\n",
       "      <th></th>\n",
       "      <th></th>\n",
       "      <th></th>\n",
       "      <th></th>\n",
       "      <th></th>\n",
       "      <th></th>\n",
       "      <th></th>\n",
       "    </tr>\n",
       "  </thead>\n",
       "  <tbody>\n",
       "    <tr>\n",
       "      <th></th>\n",
       "      <td>int64</td>\n",
       "      <td>object</td>\n",
       "      <td>float64</td>\n",
       "      <td>int64</td>\n",
       "      <td>datetime64[ns]</td>\n",
       "      <td>float64</td>\n",
       "      <td>object</td>\n",
       "      <td>int64</td>\n",
       "    </tr>\n",
       "    <tr>\n",
       "      <th></th>\n",
       "      <td>...</td>\n",
       "      <td>...</td>\n",
       "      <td>...</td>\n",
       "      <td>...</td>\n",
       "      <td>...</td>\n",
       "      <td>...</td>\n",
       "      <td>...</td>\n",
       "      <td>...</td>\n",
       "    </tr>\n",
       "    <tr>\n",
       "      <th>...</th>\n",
       "      <td>...</td>\n",
       "      <td>...</td>\n",
       "      <td>...</td>\n",
       "      <td>...</td>\n",
       "      <td>...</td>\n",
       "      <td>...</td>\n",
       "      <td>...</td>\n",
       "      <td>...</td>\n",
       "    </tr>\n",
       "    <tr>\n",
       "      <th></th>\n",
       "      <td>...</td>\n",
       "      <td>...</td>\n",
       "      <td>...</td>\n",
       "      <td>...</td>\n",
       "      <td>...</td>\n",
       "      <td>...</td>\n",
       "      <td>...</td>\n",
       "      <td>...</td>\n",
       "    </tr>\n",
       "    <tr>\n",
       "      <th></th>\n",
       "      <td>...</td>\n",
       "      <td>...</td>\n",
       "      <td>...</td>\n",
       "      <td>...</td>\n",
       "      <td>...</td>\n",
       "      <td>...</td>\n",
       "      <td>...</td>\n",
       "      <td>...</td>\n",
       "    </tr>\n",
       "  </tbody>\n",
       "</table>\n",
       "</div>\n",
       "<div>Dask Name: read-csv, 16 tasks</div>"
      ],
      "text/plain": [
       "Dask DataFrame Structure:\n",
       "                   id    name  minutes contributor_id       submitted  n_steps description n_ingredients\n",
       "npartitions=16                                                                                          \n",
       "                int64  object  float64          int64  datetime64[ns]  float64      object         int64\n",
       "                  ...     ...      ...            ...             ...      ...         ...           ...\n",
       "...               ...     ...      ...            ...             ...      ...         ...           ...\n",
       "                  ...     ...      ...            ...             ...      ...         ...           ...\n",
       "                  ...     ...      ...            ...             ...      ...         ...           ...\n",
       "Dask Name: read-csv, 16 tasks"
      ]
     },
     "execution_count": 4,
     "metadata": {},
     "output_type": "execute_result"
    }
   ],
   "source": [
    "recipes"
   ]
  },
  {
   "cell_type": "markdown",
   "metadata": {},
   "source": [
    "3. Выведите на экран 5 первых строк таблицы. Выведите на экран 5 последних строк таблицы. В случае сообщения об ошибки объясните причину и исправьте ошибку."
   ]
  },
  {
   "cell_type": "code",
   "execution_count": 5,
   "metadata": {},
   "outputs": [
    {
     "data": {
      "text/html": [
       "<div>\n",
       "<style scoped>\n",
       "    .dataframe tbody tr th:only-of-type {\n",
       "        vertical-align: middle;\n",
       "    }\n",
       "\n",
       "    .dataframe tbody tr th {\n",
       "        vertical-align: top;\n",
       "    }\n",
       "\n",
       "    .dataframe thead th {\n",
       "        text-align: right;\n",
       "    }\n",
       "</style>\n",
       "<table border=\"1\" class=\"dataframe\">\n",
       "  <thead>\n",
       "    <tr style=\"text-align: right;\">\n",
       "      <th></th>\n",
       "      <th>id</th>\n",
       "      <th>name</th>\n",
       "      <th>minutes</th>\n",
       "      <th>contributor_id</th>\n",
       "      <th>submitted</th>\n",
       "      <th>n_steps</th>\n",
       "      <th>description</th>\n",
       "      <th>n_ingredients</th>\n",
       "    </tr>\n",
       "  </thead>\n",
       "  <tbody>\n",
       "    <tr>\n",
       "      <th>0</th>\n",
       "      <td>683970</td>\n",
       "      <td>vant ivoire mickies nothing</td>\n",
       "      <td>33.0</td>\n",
       "      <td>803776</td>\n",
       "      <td>2019-08-22</td>\n",
       "      <td>4.0</td>\n",
       "      <td>pat and gina neely and their family own and op...</td>\n",
       "      <td>9</td>\n",
       "    </tr>\n",
       "    <tr>\n",
       "      <th>1</th>\n",
       "      <td>1089012</td>\n",
       "      <td>kremsils mariposa baccala cookies class borage...</td>\n",
       "      <td>23.0</td>\n",
       "      <td>51579</td>\n",
       "      <td>2013-03-02</td>\n",
       "      <td>1.0</td>\n",
       "      <td>a light, tasty and easy to put together chicke...</td>\n",
       "      <td>5</td>\n",
       "    </tr>\n",
       "    <tr>\n",
       "      <th>2</th>\n",
       "      <td>1428572</td>\n",
       "      <td>tania lander</td>\n",
       "      <td>0.0</td>\n",
       "      <td>68884</td>\n",
       "      <td>1980-11-09</td>\n",
       "      <td>1.0</td>\n",
       "      <td>a delicious melt in your mouth appetizer. for ...</td>\n",
       "      <td>5</td>\n",
       "    </tr>\n",
       "    <tr>\n",
       "      <th>3</th>\n",
       "      <td>1400250</td>\n",
       "      <td>heloise milli asher doogh zojirushi</td>\n",
       "      <td>24.0</td>\n",
       "      <td>678862</td>\n",
       "      <td>2018-04-29</td>\n",
       "      <td>3.0</td>\n",
       "      <td>delicious cream cheese and peach filled cresce...</td>\n",
       "      <td>1</td>\n",
       "    </tr>\n",
       "    <tr>\n",
       "      <th>4</th>\n",
       "      <td>387709</td>\n",
       "      <td>nutty chocolate chunk cookies</td>\n",
       "      <td>47.0</td>\n",
       "      <td>489552</td>\n",
       "      <td>2009-08-31</td>\n",
       "      <td>8.0</td>\n",
       "      <td>everyone loves these buttery cookies chock ful...</td>\n",
       "      <td>10</td>\n",
       "    </tr>\n",
       "  </tbody>\n",
       "</table>\n",
       "</div>"
      ],
      "text/plain": [
       "        id                                               name  minutes  \\\n",
       "0   683970                        vant ivoire mickies nothing     33.0   \n",
       "1  1089012  kremsils mariposa baccala cookies class borage...     23.0   \n",
       "2  1428572                                       tania lander      0.0   \n",
       "3  1400250                heloise milli asher doogh zojirushi     24.0   \n",
       "4   387709                      nutty chocolate chunk cookies     47.0   \n",
       "\n",
       "   contributor_id  submitted  n_steps  \\\n",
       "0          803776 2019-08-22      4.0   \n",
       "1           51579 2013-03-02      1.0   \n",
       "2           68884 1980-11-09      1.0   \n",
       "3          678862 2018-04-29      3.0   \n",
       "4          489552 2009-08-31      8.0   \n",
       "\n",
       "                                         description  n_ingredients  \n",
       "0  pat and gina neely and their family own and op...              9  \n",
       "1  a light, tasty and easy to put together chicke...              5  \n",
       "2  a delicious melt in your mouth appetizer. for ...              5  \n",
       "3  delicious cream cheese and peach filled cresce...              1  \n",
       "4  everyone loves these buttery cookies chock ful...             10  "
      ]
     },
     "execution_count": 5,
     "metadata": {},
     "output_type": "execute_result"
    }
   ],
   "source": [
    "recipes.head(5)"
   ]
  },
  {
   "cell_type": "code",
   "execution_count": 50,
   "metadata": {},
   "outputs": [
    {
     "data": {
      "text/html": [
       "<div>\n",
       "<style scoped>\n",
       "    .dataframe tbody tr th:only-of-type {\n",
       "        vertical-align: middle;\n",
       "    }\n",
       "\n",
       "    .dataframe tbody tr th {\n",
       "        vertical-align: top;\n",
       "    }\n",
       "\n",
       "    .dataframe thead th {\n",
       "        text-align: right;\n",
       "    }\n",
       "</style>\n",
       "<table border=\"1\" class=\"dataframe\">\n",
       "  <thead>\n",
       "    <tr style=\"text-align: right;\">\n",
       "      <th></th>\n",
       "      <th>id</th>\n",
       "      <th>name</th>\n",
       "      <th>minutes</th>\n",
       "      <th>contributor_id</th>\n",
       "      <th>submitted</th>\n",
       "      <th>n_steps</th>\n",
       "      <th>description</th>\n",
       "      <th>n_ingredients</th>\n",
       "    </tr>\n",
       "  </thead>\n",
       "  <tbody>\n",
       "    <tr>\n",
       "      <th>44011</th>\n",
       "      <td>1029131</td>\n",
       "      <td>tuti waffle snackies steakhouse</td>\n",
       "      <td>19.0</td>\n",
       "      <td>171345</td>\n",
       "      <td>1973-10-18</td>\n",
       "      <td>4.0</td>\n",
       "      <td>according to a providence journal article, ama...</td>\n",
       "      <td>4</td>\n",
       "    </tr>\n",
       "    <tr>\n",
       "      <th>44012</th>\n",
       "      <td>1700703</td>\n",
       "      <td>noelias cheats crocante fleisch zitumbuwa</td>\n",
       "      <td>1.0</td>\n",
       "      <td>30228</td>\n",
       "      <td>2007-07-01</td>\n",
       "      <td>6.0</td>\n",
       "      <td>if possible sauté the onions and garlic in abo...</td>\n",
       "      <td>1</td>\n",
       "    </tr>\n",
       "    <tr>\n",
       "      <th>44013</th>\n",
       "      <td>1910650</td>\n",
       "      <td>rubbed restuffed pelmeni bedouin flavourful</td>\n",
       "      <td>60.0</td>\n",
       "      <td>591905</td>\n",
       "      <td>2009-09-26</td>\n",
       "      <td>3.0</td>\n",
       "      <td>another great recipe to add to the growing swe...</td>\n",
       "      <td>2</td>\n",
       "    </tr>\n",
       "    <tr>\n",
       "      <th>44014</th>\n",
       "      <td>713836</td>\n",
       "      <td>stems polpettine peezi</td>\n",
       "      <td>NaN</td>\n",
       "      <td>357389</td>\n",
       "      <td>2003-09-30</td>\n",
       "      <td>4.0</td>\n",
       "      <td>adapted from top secret recipes. love this!</td>\n",
       "      <td>9</td>\n",
       "    </tr>\n",
       "    <tr>\n",
       "      <th>44015</th>\n",
       "      <td>660699</td>\n",
       "      <td>clementines</td>\n",
       "      <td>64.0</td>\n",
       "      <td>29196</td>\n",
       "      <td>1973-06-03</td>\n",
       "      <td>6.0</td>\n",
       "      <td>this would make a great start to your holiday ...</td>\n",
       "      <td>8</td>\n",
       "    </tr>\n",
       "  </tbody>\n",
       "</table>\n",
       "</div>"
      ],
      "text/plain": [
       "            id                                         name  minutes  \\\n",
       "44011  1029131              tuti waffle snackies steakhouse     19.0   \n",
       "44012  1700703    noelias cheats crocante fleisch zitumbuwa      1.0   \n",
       "44013  1910650  rubbed restuffed pelmeni bedouin flavourful     60.0   \n",
       "44014   713836                       stems polpettine peezi      NaN   \n",
       "44015   660699                                  clementines     64.0   \n",
       "\n",
       "       contributor_id  submitted  n_steps  \\\n",
       "44011          171345 1973-10-18      4.0   \n",
       "44012           30228 2007-07-01      6.0   \n",
       "44013          591905 2009-09-26      3.0   \n",
       "44014          357389 2003-09-30      4.0   \n",
       "44015           29196 1973-06-03      6.0   \n",
       "\n",
       "                                             description  n_ingredients  \n",
       "44011  according to a providence journal article, ama...              4  \n",
       "44012  if possible sauté the onions and garlic in abo...              1  \n",
       "44013  another great recipe to add to the growing swe...              2  \n",
       "44014        adapted from top secret recipes. love this!              9  \n",
       "44015  this would make a great start to your holiday ...              8  "
      ]
     },
     "execution_count": 50,
     "metadata": {},
     "output_type": "execute_result"
    }
   ],
   "source": [
    "recipes.tail(5)"
   ]
  },
  {
   "cell_type": "markdown",
   "metadata": {},
   "source": [
    "4. Посчитайте, сколько строк содержит каждый из блоков (partitions)."
   ]
  },
  {
   "cell_type": "code",
   "execution_count": 49,
   "metadata": {},
   "outputs": [
    {
     "data": {
      "text/plain": [
       "0     237505\n",
       "1      41450\n",
       "2     235222\n",
       "3      43733\n",
       "4     238139\n",
       "5      40816\n",
       "6     234750\n",
       "7      44205\n",
       "8     237887\n",
       "9      41068\n",
       "10    234486\n",
       "11     44468\n",
       "12    238298\n",
       "13     40656\n",
       "14    234938\n",
       "15     44016\n",
       "dtype: int64"
      ]
     },
     "execution_count": 49,
     "metadata": {},
     "output_type": "execute_result"
    }
   ],
   "source": [
    "recipes.map_partitions(len).compute()"
   ]
  },
  {
   "cell_type": "markdown",
   "metadata": {},
   "source": [
    "5. Найдите максимум в столбце `n_steps`. Визуализируйте граф вычислений для этой задачи. Прокомментируйте логику работы `dask` при решении данной задачи."
   ]
  },
  {
   "cell_type": "code",
   "execution_count": 51,
   "metadata": {},
   "outputs": [
    {
     "data": {
      "text/plain": [
       "145.0"
      ]
     },
     "execution_count": 51,
     "metadata": {},
     "output_type": "execute_result"
    }
   ],
   "source": [
    "recipes['n_steps'].max().compute()"
   ]
  },
  {
   "cell_type": "markdown",
   "metadata": {},
   "source": [
    "6. Посчитайте количество рецептов с группировкой по месяцам добавления отзыва в базу."
   ]
  },
  {
   "cell_type": "code",
   "execution_count": 5,
   "metadata": {},
   "outputs": [
    {
     "data": {
      "text/plain": [
       "submitted\n",
       "1     193363\n",
       "2     173834\n",
       "3     192389\n",
       "4     186049\n",
       "5     192487\n",
       "6     184205\n",
       "7     189337\n",
       "8     187276\n",
       "9     181081\n",
       "10    187018\n",
       "11    180974\n",
       "12    183624\n",
       "dtype: int64"
      ]
     },
     "execution_count": 5,
     "metadata": {},
     "output_type": "execute_result"
    }
   ],
   "source": [
    "recipes_count = recipes.groupby(recipes['submitted'].dt.month).size().compute()\n",
    "recipes_count"
   ]
  },
  {
   "cell_type": "markdown",
   "metadata": {},
   "source": [
    "7. Считайте файлы из архива `reviews_full.zip` (__ЛР12__) в виде `dask.bag`. Пользуясь результатом лабораторной работы 12, рассчитайте среднее значение оценок отзывов с группировкой по месяцам. После завершения всех вычислений преобразуйте результат к `pd.Series`."
   ]
  },
  {
   "cell_type": "code",
   "execution_count": 6,
   "metadata": {},
   "outputs": [],
   "source": [
    "def add_rating(record):\n",
    "    pattern = re.compile(r'(?<=reviews_)[0-9]{1,}(?=\\.json)')\n",
    "    \n",
    "    new_record = json.loads(record[0])\n",
    "    new_record[\"rating\"] = int(pattern.findall(record[1])[0])\n",
    "    \n",
    "    return new_record"
   ]
  },
  {
   "cell_type": "code",
   "execution_count": 7,
   "metadata": {},
   "outputs": [
    {
     "data": {
      "text/html": [
       "<div><strong>Dask DataFrame Structure:</strong></div>\n",
       "<div>\n",
       "<style scoped>\n",
       "    .dataframe tbody tr th:only-of-type {\n",
       "        vertical-align: middle;\n",
       "    }\n",
       "\n",
       "    .dataframe tbody tr th {\n",
       "        vertical-align: top;\n",
       "    }\n",
       "\n",
       "    .dataframe thead th {\n",
       "        text-align: right;\n",
       "    }\n",
       "</style>\n",
       "<table border=\"1\" class=\"dataframe\">\n",
       "  <thead>\n",
       "    <tr style=\"text-align: right;\">\n",
       "      <th></th>\n",
       "      <th>date</th>\n",
       "      <th>rating</th>\n",
       "      <th>recipe_id</th>\n",
       "      <th>review</th>\n",
       "      <th>user_id</th>\n",
       "    </tr>\n",
       "    <tr>\n",
       "      <th>npartitions=6</th>\n",
       "      <th></th>\n",
       "      <th></th>\n",
       "      <th></th>\n",
       "      <th></th>\n",
       "      <th></th>\n",
       "    </tr>\n",
       "  </thead>\n",
       "  <tbody>\n",
       "    <tr>\n",
       "      <th></th>\n",
       "      <td>datetime64[ns]</td>\n",
       "      <td>int64</td>\n",
       "      <td>int64</td>\n",
       "      <td>object</td>\n",
       "      <td>int64</td>\n",
       "    </tr>\n",
       "    <tr>\n",
       "      <th></th>\n",
       "      <td>...</td>\n",
       "      <td>...</td>\n",
       "      <td>...</td>\n",
       "      <td>...</td>\n",
       "      <td>...</td>\n",
       "    </tr>\n",
       "    <tr>\n",
       "      <th>...</th>\n",
       "      <td>...</td>\n",
       "      <td>...</td>\n",
       "      <td>...</td>\n",
       "      <td>...</td>\n",
       "      <td>...</td>\n",
       "    </tr>\n",
       "    <tr>\n",
       "      <th></th>\n",
       "      <td>...</td>\n",
       "      <td>...</td>\n",
       "      <td>...</td>\n",
       "      <td>...</td>\n",
       "      <td>...</td>\n",
       "    </tr>\n",
       "    <tr>\n",
       "      <th></th>\n",
       "      <td>...</td>\n",
       "      <td>...</td>\n",
       "      <td>...</td>\n",
       "      <td>...</td>\n",
       "      <td>...</td>\n",
       "    </tr>\n",
       "  </tbody>\n",
       "</table>\n",
       "</div>\n",
       "<div>Dask Name: assign, 36 tasks</div>"
      ],
      "text/plain": [
       "Dask DataFrame Structure:\n",
       "                         date rating recipe_id  review user_id\n",
       "npartitions=6                                                 \n",
       "               datetime64[ns]  int64     int64  object   int64\n",
       "                          ...    ...       ...     ...     ...\n",
       "...                       ...    ...       ...     ...     ...\n",
       "                          ...    ...       ...     ...     ...\n",
       "                          ...    ...       ...     ...     ...\n",
       "Dask Name: assign, 36 tasks"
      ]
     },
     "execution_count": 7,
     "metadata": {},
     "output_type": "execute_result"
    }
   ],
   "source": [
    "reviews = db.read_text(path2 + 'reviews_*.json', include_path=True).map(add_rating).to_dataframe()\n",
    "reviews['date'] = dd.to_datetime(reviews['date'])\n",
    "reviews"
   ]
  },
  {
   "cell_type": "code",
   "execution_count": 11,
   "metadata": {},
   "outputs": [
    {
     "data": {
      "text/html": [
       "<div><strong>Dask DataFrame Structure:</strong></div>\n",
       "<div>\n",
       "<style scoped>\n",
       "    .dataframe tbody tr th:only-of-type {\n",
       "        vertical-align: middle;\n",
       "    }\n",
       "\n",
       "    .dataframe tbody tr th {\n",
       "        vertical-align: top;\n",
       "    }\n",
       "\n",
       "    .dataframe thead th {\n",
       "        text-align: right;\n",
       "    }\n",
       "</style>\n",
       "<table border=\"1\" class=\"dataframe\">\n",
       "  <thead>\n",
       "    <tr style=\"text-align: right;\">\n",
       "      <th></th>\n",
       "      <th>date</th>\n",
       "      <th>rating</th>\n",
       "      <th>recipe_id</th>\n",
       "      <th>review</th>\n",
       "      <th>user_id</th>\n",
       "    </tr>\n",
       "    <tr>\n",
       "      <th>npartitions=6</th>\n",
       "      <th></th>\n",
       "      <th></th>\n",
       "      <th></th>\n",
       "      <th></th>\n",
       "      <th></th>\n",
       "    </tr>\n",
       "  </thead>\n",
       "  <tbody>\n",
       "    <tr>\n",
       "      <th></th>\n",
       "      <td>datetime64[ns]</td>\n",
       "      <td>int64</td>\n",
       "      <td>int64</td>\n",
       "      <td>object</td>\n",
       "      <td>int64</td>\n",
       "    </tr>\n",
       "    <tr>\n",
       "      <th></th>\n",
       "      <td>...</td>\n",
       "      <td>...</td>\n",
       "      <td>...</td>\n",
       "      <td>...</td>\n",
       "      <td>...</td>\n",
       "    </tr>\n",
       "    <tr>\n",
       "      <th>...</th>\n",
       "      <td>...</td>\n",
       "      <td>...</td>\n",
       "      <td>...</td>\n",
       "      <td>...</td>\n",
       "      <td>...</td>\n",
       "    </tr>\n",
       "    <tr>\n",
       "      <th></th>\n",
       "      <td>...</td>\n",
       "      <td>...</td>\n",
       "      <td>...</td>\n",
       "      <td>...</td>\n",
       "      <td>...</td>\n",
       "    </tr>\n",
       "    <tr>\n",
       "      <th></th>\n",
       "      <td>...</td>\n",
       "      <td>...</td>\n",
       "      <td>...</td>\n",
       "      <td>...</td>\n",
       "      <td>...</td>\n",
       "    </tr>\n",
       "  </tbody>\n",
       "</table>\n",
       "</div>\n",
       "<div>Dask Name: assign, 36 tasks</div>"
      ],
      "text/plain": [
       "Dask DataFrame Structure:\n",
       "                         date rating recipe_id  review user_id\n",
       "npartitions=6                                                 \n",
       "               datetime64[ns]  int64     int64  object   int64\n",
       "                          ...    ...       ...     ...     ...\n",
       "...                       ...    ...       ...     ...     ...\n",
       "                          ...    ...       ...     ...     ...\n",
       "                          ...    ...       ...     ...     ...\n",
       "Dask Name: assign, 36 tasks"
      ]
     },
     "execution_count": 11,
     "metadata": {},
     "output_type": "execute_result"
    }
   ],
   "source": [
    "reviews"
   ]
  },
  {
   "cell_type": "code",
   "execution_count": 12,
   "metadata": {},
   "outputs": [
    {
     "data": {
      "text/html": [
       "<div>\n",
       "<style scoped>\n",
       "    .dataframe tbody tr th:only-of-type {\n",
       "        vertical-align: middle;\n",
       "    }\n",
       "\n",
       "    .dataframe tbody tr th {\n",
       "        vertical-align: top;\n",
       "    }\n",
       "\n",
       "    .dataframe thead th {\n",
       "        text-align: right;\n",
       "    }\n",
       "</style>\n",
       "<table border=\"1\" class=\"dataframe\">\n",
       "  <thead>\n",
       "    <tr style=\"text-align: right;\">\n",
       "      <th></th>\n",
       "      <th>date</th>\n",
       "      <th>rating</th>\n",
       "      <th>recipe_id</th>\n",
       "      <th>review</th>\n",
       "      <th>user_id</th>\n",
       "    </tr>\n",
       "  </thead>\n",
       "  <tbody>\n",
       "    <tr>\n",
       "      <th>0</th>\n",
       "      <td>2016-05-08</td>\n",
       "      <td>0</td>\n",
       "      <td>292657</td>\n",
       "      <td>WOW!!! This is the best. I have never been abl...</td>\n",
       "      <td>452355</td>\n",
       "    </tr>\n",
       "    <tr>\n",
       "      <th>1</th>\n",
       "      <td>2006-06-14</td>\n",
       "      <td>0</td>\n",
       "      <td>433404</td>\n",
       "      <td>This was good but the dressing needed somethin...</td>\n",
       "      <td>329304</td>\n",
       "    </tr>\n",
       "    <tr>\n",
       "      <th>2</th>\n",
       "      <td>1985-11-19</td>\n",
       "      <td>0</td>\n",
       "      <td>2008187</td>\n",
       "      <td>Very good,it was a hit for my family. I used 6...</td>\n",
       "      <td>227932</td>\n",
       "    </tr>\n",
       "    <tr>\n",
       "      <th>3</th>\n",
       "      <td>2019-05-21</td>\n",
       "      <td>0</td>\n",
       "      <td>270716</td>\n",
       "      <td>Made for ZWT-8 Family Picks after I saw these ...</td>\n",
       "      <td>171468</td>\n",
       "    </tr>\n",
       "    <tr>\n",
       "      <th>4</th>\n",
       "      <td>1972-09-18</td>\n",
       "      <td>0</td>\n",
       "      <td>1159916</td>\n",
       "      <td>Very nice slaw. I especially like that it does...</td>\n",
       "      <td>91392</td>\n",
       "    </tr>\n",
       "  </tbody>\n",
       "</table>\n",
       "</div>"
      ],
      "text/plain": [
       "        date  rating  recipe_id  \\\n",
       "0 2016-05-08       0     292657   \n",
       "1 2006-06-14       0     433404   \n",
       "2 1985-11-19       0    2008187   \n",
       "3 2019-05-21       0     270716   \n",
       "4 1972-09-18       0    1159916   \n",
       "\n",
       "                                              review  user_id  \n",
       "0  WOW!!! This is the best. I have never been abl...   452355  \n",
       "1  This was good but the dressing needed somethin...   329304  \n",
       "2  Very good,it was a hit for my family. I used 6...   227932  \n",
       "3  Made for ZWT-8 Family Picks after I saw these ...   171468  \n",
       "4  Very nice slaw. I especially like that it does...    91392  "
      ]
     },
     "execution_count": 12,
     "metadata": {},
     "output_type": "execute_result"
    }
   ],
   "source": [
    "reviews.head()"
   ]
  },
  {
   "cell_type": "code",
   "execution_count": 13,
   "metadata": {},
   "outputs": [
    {
     "data": {
      "text/plain": [
       "date\n",
       "1     4.408553\n",
       "2     4.407135\n",
       "3     4.406911\n",
       "4     4.412259\n",
       "5     4.415401\n",
       "6     4.418419\n",
       "7     4.411717\n",
       "8     4.410822\n",
       "9     4.410661\n",
       "10    4.411452\n",
       "11    4.408829\n",
       "12    4.406908\n",
       "Name: rating, dtype: float64"
      ]
     },
     "execution_count": 13,
     "metadata": {},
     "output_type": "execute_result"
    }
   ],
   "source": [
    "mean_rating = reviews.groupby(reviews['date'].dt.month)['rating'].mean().compute()\n",
    "mean_rating"
   ]
  },
  {
   "cell_type": "markdown",
   "metadata": {},
   "source": [
    "8. Пользуясь результатами решения задач 6 и 7, создайте `pd.DataFrame`, содержащий два столбца: `mean_rating`, `recipes_count`"
   ]
  },
  {
   "cell_type": "code",
   "execution_count": 14,
   "metadata": {},
   "outputs": [
    {
     "data": {
      "text/html": [
       "<div>\n",
       "<style scoped>\n",
       "    .dataframe tbody tr th:only-of-type {\n",
       "        vertical-align: middle;\n",
       "    }\n",
       "\n",
       "    .dataframe tbody tr th {\n",
       "        vertical-align: top;\n",
       "    }\n",
       "\n",
       "    .dataframe thead th {\n",
       "        text-align: right;\n",
       "    }\n",
       "</style>\n",
       "<table border=\"1\" class=\"dataframe\">\n",
       "  <thead>\n",
       "    <tr style=\"text-align: right;\">\n",
       "      <th></th>\n",
       "      <th>recipes_count</th>\n",
       "      <th>mean_rating</th>\n",
       "    </tr>\n",
       "  </thead>\n",
       "  <tbody>\n",
       "    <tr>\n",
       "      <th>1</th>\n",
       "      <td>193363</td>\n",
       "      <td>4.408553</td>\n",
       "    </tr>\n",
       "    <tr>\n",
       "      <th>2</th>\n",
       "      <td>173834</td>\n",
       "      <td>4.407135</td>\n",
       "    </tr>\n",
       "    <tr>\n",
       "      <th>3</th>\n",
       "      <td>192389</td>\n",
       "      <td>4.406911</td>\n",
       "    </tr>\n",
       "    <tr>\n",
       "      <th>4</th>\n",
       "      <td>186049</td>\n",
       "      <td>4.412259</td>\n",
       "    </tr>\n",
       "    <tr>\n",
       "      <th>5</th>\n",
       "      <td>192487</td>\n",
       "      <td>4.415401</td>\n",
       "    </tr>\n",
       "    <tr>\n",
       "      <th>6</th>\n",
       "      <td>184205</td>\n",
       "      <td>4.418419</td>\n",
       "    </tr>\n",
       "    <tr>\n",
       "      <th>7</th>\n",
       "      <td>189337</td>\n",
       "      <td>4.411717</td>\n",
       "    </tr>\n",
       "    <tr>\n",
       "      <th>8</th>\n",
       "      <td>187276</td>\n",
       "      <td>4.410822</td>\n",
       "    </tr>\n",
       "    <tr>\n",
       "      <th>9</th>\n",
       "      <td>181081</td>\n",
       "      <td>4.410661</td>\n",
       "    </tr>\n",
       "    <tr>\n",
       "      <th>10</th>\n",
       "      <td>187018</td>\n",
       "      <td>4.411452</td>\n",
       "    </tr>\n",
       "    <tr>\n",
       "      <th>11</th>\n",
       "      <td>180974</td>\n",
       "      <td>4.408829</td>\n",
       "    </tr>\n",
       "    <tr>\n",
       "      <th>12</th>\n",
       "      <td>183624</td>\n",
       "      <td>4.406908</td>\n",
       "    </tr>\n",
       "  </tbody>\n",
       "</table>\n",
       "</div>"
      ],
      "text/plain": [
       "    recipes_count  mean_rating\n",
       "1          193363     4.408553\n",
       "2          173834     4.407135\n",
       "3          192389     4.406911\n",
       "4          186049     4.412259\n",
       "5          192487     4.415401\n",
       "6          184205     4.418419\n",
       "7          189337     4.411717\n",
       "8          187276     4.410822\n",
       "9          181081     4.410661\n",
       "10         187018     4.411452\n",
       "11         180974     4.408829\n",
       "12         183624     4.406908"
      ]
     },
     "execution_count": 14,
     "metadata": {},
     "output_type": "execute_result"
    }
   ],
   "source": [
    "result = pd.DataFrame({\"recipes_count\": recipes_count, \"mean_rating\": mean_rating})\n",
    "result"
   ]
  }
 ],
 "metadata": {
  "kernelspec": {
   "display_name": "Python 3",
   "language": "python",
   "name": "python3"
  },
  "language_info": {
   "codemirror_mode": {
    "name": "ipython",
    "version": 3
   },
   "file_extension": ".py",
   "mimetype": "text/x-python",
   "name": "python",
   "nbconvert_exporter": "python",
   "pygments_lexer": "ipython3",
   "version": "3.7.3"
  }
 },
 "nbformat": 4,
 "nbformat_minor": 4
}
