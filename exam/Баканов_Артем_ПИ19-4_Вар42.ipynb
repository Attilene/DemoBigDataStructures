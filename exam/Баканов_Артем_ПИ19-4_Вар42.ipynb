{
 "cells": [
  {
   "cell_type": "code",
   "execution_count": 37,
   "metadata": {},
   "outputs": [],
   "source": [
    "import json\n",
    "import csv\n",
    "from bs4 import BeautifulSoup\n",
    "import pandas as pd\n",
    "import dask\n",
    "import dask.dataframe as dd"
   ]
  },
  {
   "cell_type": "code",
   "execution_count": 34,
   "metadata": {},
   "outputs": [],
   "source": [
    "path1 = \"D:/FinUniver/Технологии обработки больших данных/Семинары/exam/data/датасеты_к_заданию_2/\"\n",
    "path2 = \"D:/FinUniver/Технологии обработки больших данных/Семинары/exam/data/датасеты_к_заданию_3/data/\""
   ]
  },
  {
   "cell_type": "markdown",
   "metadata": {},
   "source": [
    "# Задача 2"
   ]
  },
  {
   "cell_type": "code",
   "execution_count": 29,
   "metadata": {},
   "outputs": [
    {
     "data": {
      "text/plain": [
       "{'Presidente': [{'name': 'Aicha Barki',\n",
       "   'company': \"Association Algerienne d'Alphabetisation Iqraa\",\n",
       "   'phones': ['+ (213) 6150 4015', '+ (213) 2173 5247']}],\n",
       " 'Directeur General': [{'name': 'Francisco Domingos',\n",
       "   'company': 'Institut National de Education des Adultes',\n",
       "   'phones': ['+ (244-2) 325 023', '+ (244-2) 325 023']}],\n",
       " 'Directrice Nationale': [{'name': 'Maria Luisa',\n",
       "   'company': 'Institut National de Education des Adultes',\n",
       "   'phones': ['+ (244) 4232 2836']}],\n",
       " 'Chef': [{'name': 'Abraao Chanda',\n",
       "   'company': 'Institut National de Education des Adultes',\n",
       "   'phones': ['+ (244-2) 325 023', '+ (244-2) 325 023']}],\n",
       " 'Executive Director': [{'name': 'Beatriz Busaniche',\n",
       "   'company': 'Universidad de Buenos Aires',\n",
       "   'phones': ['+ (54-11) 4784 1159']},\n",
       "  {'name': 'Francesca Beddie',\n",
       "   'company': 'Adult Learning Australia',\n",
       "   'phones': ['+ (61-2) 6274 9500', '+ (61-2) 6274 9513']}],\n",
       " 'Secretary': [{'name': 'Graham John Smith',\n",
       "   'company': 'Disability Australia Ltd',\n",
       "   'phones': ['+ (61-3) 9807 4702']}]}"
      ]
     },
     "execution_count": 29,
     "metadata": {},
     "output_type": "execute_result"
    }
   ],
   "source": [
    "result = dict()\n",
    "\n",
    "with open(path1 + \"addres-book-q.xml\", 'r') as f:\n",
    "    data = BeautifulSoup(f, 'xml')\n",
    "    for address in data.find_all('address'):\n",
    "        man = dict()\n",
    "        \n",
    "        pos = address.find(\"position\")\n",
    "        if pos.text not in result:\n",
    "            result[pos.text] = []\n",
    "            \n",
    "        man[\"name\"] = address.find(\"name\").text\n",
    "        man[\"company\"] = address.find(\"company\").text\n",
    "        man[\"phones\"] = []\n",
    "        \n",
    "        phones = address.find(\"phones\")\n",
    "        for phone in phones.find_all(\"phone\"):\n",
    "            man[\"phones\"].append(phone.text)\n",
    "        \n",
    "        result[pos.text].append(man)\n",
    "        \n",
    "result"
   ]
  },
  {
   "cell_type": "code",
   "execution_count": 31,
   "metadata": {},
   "outputs": [],
   "source": [
    "with open(path1 + \"result_positions.json\", 'w', encoding='utf8') as f:\n",
    "    json.dump(result, f)"
   ]
  },
  {
   "cell_type": "code",
   "execution_count": 32,
   "metadata": {},
   "outputs": [
    {
     "name": "stdout",
     "output_type": "stream",
     "text": [
      "{'Presidente': [{'name': 'Aicha Barki', 'company': \"Association Algerienne d'Alphabetisation Iqraa\", 'phones': ['+ (213) 6150 4015', '+ (213) 2173 5247']}], 'Directeur General': [{'name': 'Francisco Domingos', 'company': 'Institut National de Education des Adultes', 'phones': ['+ (244-2) 325 023', '+ (244-2) 325 023']}], 'Directrice Nationale': [{'name': 'Maria Luisa', 'company': 'Institut National de Education des Adultes', 'phones': ['+ (244) 4232 2836']}], 'Chef': [{'name': 'Abraao Chanda', 'company': 'Institut National de Education des Adultes', 'phones': ['+ (244-2) 325 023', '+ (244-2) 325 023']}], 'Executive Director': [{'name': 'Beatriz Busaniche', 'company': 'Universidad de Buenos Aires', 'phones': ['+ (54-11) 4784 1159']}, {'name': 'Francesca Beddie', 'company': 'Adult Learning Australia', 'phones': ['+ (61-2) 6274 9500', '+ (61-2) 6274 9513']}], 'Secretary': [{'name': 'Graham John Smith', 'company': 'Disability Australia Ltd', 'phones': ['+ (61-3) 9807 4702']}]}\n"
     ]
    }
   ],
   "source": [
    "with open(path1 + \"result_positions.json\", 'r', encoding='utf8') as f:\n",
    "    print(json.load(f))"
   ]
  },
  {
   "cell_type": "markdown",
   "metadata": {},
   "source": [
    "# Задача 3"
   ]
  },
  {
   "cell_type": "code",
   "execution_count": 76,
   "metadata": {},
   "outputs": [],
   "source": [
    "accounts = dd.read_csv(path2 + 'accounts.*.csv', dtype={'amount': 'int64'})"
   ]
  },
  {
   "cell_type": "code",
   "execution_count": 77,
   "metadata": {},
   "outputs": [],
   "source": [
    "accounts = accounts[accounts[\"amount\"] >= 1000]\n",
    "accounts = accounts[accounts[\"amount\"] <= 1500]"
   ]
  },
  {
   "cell_type": "code",
   "execution_count": 78,
   "metadata": {},
   "outputs": [
    {
     "data": {
      "text/html": [
       "<div>\n",
       "<style scoped>\n",
       "    .dataframe tbody tr th:only-of-type {\n",
       "        vertical-align: middle;\n",
       "    }\n",
       "\n",
       "    .dataframe tbody tr th {\n",
       "        vertical-align: top;\n",
       "    }\n",
       "\n",
       "    .dataframe thead th {\n",
       "        text-align: right;\n",
       "    }\n",
       "</style>\n",
       "<table border=\"1\" class=\"dataframe\">\n",
       "  <thead>\n",
       "    <tr style=\"text-align: right;\">\n",
       "      <th></th>\n",
       "      <th>id</th>\n",
       "      <th>names</th>\n",
       "      <th>amount</th>\n",
       "    </tr>\n",
       "  </thead>\n",
       "  <tbody>\n",
       "    <tr>\n",
       "      <th>2</th>\n",
       "      <td>350</td>\n",
       "      <td>Dan</td>\n",
       "      <td>1175</td>\n",
       "    </tr>\n",
       "    <tr>\n",
       "      <th>16</th>\n",
       "      <td>377</td>\n",
       "      <td>Norbert</td>\n",
       "      <td>1222</td>\n",
       "    </tr>\n",
       "    <tr>\n",
       "      <th>47</th>\n",
       "      <td>367</td>\n",
       "      <td>Ray</td>\n",
       "      <td>1351</td>\n",
       "    </tr>\n",
       "    <tr>\n",
       "      <th>48</th>\n",
       "      <td>50</td>\n",
       "      <td>Quinn</td>\n",
       "      <td>1477</td>\n",
       "    </tr>\n",
       "    <tr>\n",
       "      <th>50</th>\n",
       "      <td>322</td>\n",
       "      <td>Yvonne</td>\n",
       "      <td>1353</td>\n",
       "    </tr>\n",
       "  </tbody>\n",
       "</table>\n",
       "</div>"
      ],
      "text/plain": [
       "     id    names  amount\n",
       "2   350      Dan    1175\n",
       "16  377  Norbert    1222\n",
       "47  367      Ray    1351\n",
       "48   50    Quinn    1477\n",
       "50  322   Yvonne    1353"
      ]
     },
     "execution_count": 78,
     "metadata": {},
     "output_type": "execute_result"
    }
   ],
   "source": [
    "accounts.head()"
   ]
  },
  {
   "cell_type": "code",
   "execution_count": 106,
   "metadata": {},
   "outputs": [
    {
     "data": {
      "text/plain": [
       "485"
      ]
     },
     "execution_count": 106,
     "metadata": {},
     "output_type": "execute_result"
    }
   ],
   "source": [
    "accounts.groupby(\"id\")[\"amount\"].count().idxmax().compute()"
   ]
  }
 ],
 "metadata": {
  "kernelspec": {
   "display_name": "Python 3",
   "language": "python",
   "name": "python3"
  },
  "language_info": {
   "codemirror_mode": {
    "name": "ipython",
    "version": 3
   },
   "file_extension": ".py",
   "mimetype": "text/x-python",
   "name": "python",
   "nbconvert_exporter": "python",
   "pygments_lexer": "ipython3",
   "version": "3.7.3"
  }
 },
 "nbformat": 4,
 "nbformat_minor": 2
}
